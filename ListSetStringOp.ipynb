{
 "cells": [
  {
   "cell_type": "markdown",
   "metadata": {},
   "source": []
  },
  {
   "cell_type": "markdown",
   "metadata": {},
   "source": [
    "<h2>len()</h2>\n",
    "Fungsi len() bertujuan untuk menghitung panjang atau banyaknya elemen dari list, set, dan string. Khusus pada string, program akan menghitung jumlah karakternya."
   ]
  },
  {
   "cell_type": "code",
   "execution_count": 4,
   "metadata": {},
   "outputs": [
    {
     "name": "stdout",
     "output_type": "stream",
     "text": [
      "9\n"
     ]
    }
   ],
   "source": [
    "contoh_string = \"HALO     \"\n",
    "\n",
    "print(len(contoh_string))"
   ]
  },
  {
   "cell_type": "code",
   "execution_count": 1,
   "metadata": {},
   "outputs": [
    {
     "name": "stdout",
     "output_type": "stream",
     "text": [
      "[1, 3, 3, 5, 5, 5, 7, 7, 9]\n",
      "9\n"
     ]
    }
   ],
   "source": [
    "contoh_list = [1, 3, 3, 5, 5, 5, 7, 7, 9]\n",
    "\n",
    "print(contoh_list)\n",
    "print(len(contoh_list))"
   ]
  },
  {
   "cell_type": "markdown",
   "metadata": {},
   "source": [
    "<h2>min max</h2>"
   ]
  },
  {
   "cell_type": "code",
   "execution_count": 2,
   "metadata": {},
   "outputs": [
    {
     "name": "stdout",
     "output_type": "stream",
     "text": [
      "5\n",
      "96\n"
     ]
    }
   ],
   "source": [
    "angka = [13, 7, 24, 5, 96, 84, 71, 11, 38]\n",
    "print(min(angka))\n",
    "print(max(angka))"
   ]
  },
  {
   "cell_type": "markdown",
   "metadata": {},
   "source": [
    "<h2>Count</h2>\n",
    "Fungsi count() digunakan untuk mengetahui berapa kali suatu objek muncul dalam list."
   ]
  },
  {
   "cell_type": "code",
   "execution_count": 1,
   "metadata": {},
   "outputs": [
    {
     "name": "stdout",
     "output_type": "stream",
     "text": [
      "2\n"
     ]
    }
   ],
   "source": [
    "genap = [2, 4, 4, 6, 6, 6, 8, 10, 10]\n",
    "print(genap.count(10))"
   ]
  },
  {
   "cell_type": "code",
   "execution_count": 2,
   "metadata": {},
   "outputs": [
    {
     "name": "stdout",
     "output_type": "stream",
     "text": [
      "6\n"
     ]
    }
   ],
   "source": [
    "string = \"Belajar Python di Dicoding sangat menyenangkan\"\n",
    "print(string.count('a'))"
   ]
  },
  {
   "cell_type": "markdown",
   "metadata": {},
   "source": [
    "<h2>In dan Not In</h2>\n",
    "In dan not in merupakan operator yang diperuntukkan untuk mengetahui nilai atau objek yang ada dalam list."
   ]
  },
  {
   "cell_type": "code",
   "execution_count": 6,
   "metadata": {},
   "outputs": [
    {
     "name": "stdout",
     "output_type": "stream",
     "text": [
      "True\n",
      "False\n",
      "False\n",
      "True\n"
     ]
    }
   ],
   "source": [
    "kalimat = \"Belajar Python di Dicoding sangat menyenangkan\"\n",
    "print('Dicoding' in kalimat)\n",
    "print('tidak' in kalimat)\n",
    "print('Dicoding' not in kalimat)\n",
    "print('tidak' not in kalimat)"
   ]
  },
  {
   "cell_type": "markdown",
   "metadata": {},
   "source": [
    "<h2>Memberikan Nilai untuk multiple variable</h2>\n"
   ]
  },
  {
   "cell_type": "code",
   "execution_count": null,
   "metadata": {},
   "outputs": [
    {
     "name": "stdout",
     "output_type": "stream",
     "text": [
      "shirt\n",
      "shirt\n"
     ]
    }
   ],
   "source": [
    "data = ['shirt', 'white', 'L']\n",
    "apparel, color, size = data\n",
    "\n",
    "print(data[0])\n",
    "print(apparel)\n",
    "print(\"SIZE : \", size)"
   ]
  },
  {
   "cell_type": "markdown",
   "metadata": {},
   "source": [
    "<h2>sort()</h2>\n",
    "Anda bisa menggunakan fungsi sort() untuk mengurutkan angka atau urutan huruf."
   ]
  },
  {
   "cell_type": "code",
   "execution_count": 3,
   "metadata": {},
   "outputs": [
    {
     "name": "stdout",
     "output_type": "stream",
     "text": [
      "['helikopter', 'mobil', 'motor', 'pesawat']\n",
      "[34, 5, 2, 1]\n"
     ]
    }
   ],
   "source": [
    "kendaraan = ['motor', 'mobil', 'helikopter', 'pesawat']\n",
    "bil = [1,2,34,5]\n",
    "bil.sort(reverse=True)\n",
    "kendaraan.sort()\n",
    "\n",
    "print(kendaraan)\n",
    "print(bil)"
   ]
  },
  {
   "cell_type": "code",
   "execution_count": 5,
   "metadata": {},
   "outputs": [
    {
     "name": "stdout",
     "output_type": "stream",
     "text": [
      "['helikopter', 'motor1', 'motor2', 'pesawat']\n"
     ]
    }
   ],
   "source": [
    "kendaraan = ['motor1', 'motor2', 'helikopter', 'pesawat']\n",
    "kendaraan.sort()\n",
    "\n",
    "print(kendaraan)"
   ]
  },
  {
   "cell_type": "markdown",
   "metadata": {},
   "source": [
    "Metode sort tidak dapat mengurutkan list yang memiliki angka dan string sekaligus di dalamnya"
   ]
  },
  {
   "cell_type": "code",
   "execution_count": 13,
   "metadata": {},
   "outputs": [
    {
     "ename": "TypeError",
     "evalue": "'<' not supported between instances of 'int' and 'str'",
     "output_type": "error",
     "traceback": [
      "\u001b[1;31m---------------------------------------------------------------------------\u001b[0m",
      "\u001b[1;31mTypeError\u001b[0m                                 Traceback (most recent call last)",
      "Cell \u001b[1;32mIn[13], line 2\u001b[0m\n\u001b[0;32m      1\u001b[0m urutan \u001b[39m=\u001b[39m [\u001b[39m'\u001b[39m\u001b[39mDicoding\u001b[39m\u001b[39m'\u001b[39m, \u001b[39m1\u001b[39m, \u001b[39m2\u001b[39m, \u001b[39m'\u001b[39m\u001b[39mIndonesia\u001b[39m\u001b[39m'\u001b[39m, \u001b[39m3\u001b[39m]\n\u001b[1;32m----> 2\u001b[0m urutan\u001b[39m.\u001b[39;49msort()\n",
      "\u001b[1;31mTypeError\u001b[0m: '<' not supported between instances of 'int' and 'str'"
     ]
    }
   ],
   "source": [
    "urutan = ['Dicoding', 1, 2, 'Indonesia', 3]\n",
    "urutan.sort()"
   ]
  },
  {
   "cell_type": "markdown",
   "metadata": {},
   "source": [
    "Metode sort menggunakan urutan ASCII sehingga nilai huruf kapital (uppercase) akan lebih dahulu dibandingkan huruf kecil (lowercase)."
   ]
  },
  {
   "cell_type": "code",
   "execution_count": 14,
   "metadata": {},
   "outputs": [
    {
     "name": "stdout",
     "output_type": "stream",
     "text": [
      "['Pesawat', 'helikopter', 'mobil', 'motor']\n"
     ]
    }
   ],
   "source": [
    "kendaraan = ['motor', 'mobil', 'helikopter', 'Pesawat']\n",
    "kendaraan.sort()\n",
    "\n",
    "print(kendaraan)"
   ]
  },
  {
   "cell_type": "markdown",
   "metadata": {},
   "source": [
    "Diberikan sebuah variabel berisi nilai list dengan nama \"var_list\". \n",
    "Berdasarkan list tersebut, cari hal-hal berikut ini:\n",
    "- Panjang list tersebut dan simpan dengan nama variabel \"panjang\".\n",
    "- Nilai maksimal list tersebut dan simpan dengan nama variabel \"maksimal\".\n",
    "- Nilai minimal list tersebut dan simpan dengan nama variabel \"minimal\".\n",
    "- Berapa banyak angka 605132 dalam list tersebut dan simpan dalam variabel bernama \"banyak\"\n",
    "- urutkan secara 'reverse'"
   ]
  },
  {
   "cell_type": "code",
   "execution_count": 6,
   "metadata": {},
   "outputs": [
    {
     "name": "stdout",
     "output_type": "stream",
     "text": [
      "panjang :  96\n",
      "maksimal :  985026\n",
      "minimal :  109237\n",
      "605132 sebanyak :  8\n",
      "sort.reverse :  [985026, 981037, 980465, 978260, 974810, 956024, 953284, 950672, 950283, 931560, 920873, 913250, 879043, 874956, 857943, 857219, 835096, 827309, 825160, 820913, 810235, 806295, 804512, 792564, 768490, 751903, 746098, 740326, 736890, 734126, 731095, 720459, 683420, 680934, 674519, 673925, 670594, 630921, 620493, 617902, 609873, 608345, 605132, 605132, 605132, 605132, 605132, 605132, 605132, 605132, 596410, 594031, 592403, 543187, 541380, 540329, 532198, 519463, 509317, 503624, 496803, 492157, 487610, 465231, 450218, 429731, 407835, 405826, 391047, 381904, 378490, 369012, 351809, 320158, 314092, 307491, 290753, 284105, 283045, 281709, 260481, 245016, 235780, 217605, 214978, 203748, 183607, 179430, 175430, 167432, 160984, 153607, 135890, 125094, 123907, 109237]\n"
     ]
    }
   ],
   "source": [
    "var_list = [792564, 465231, 203748, 981037, 857219, 314092, 608345, 123907, 736890, 985026, \n",
    "179430, 450218, 680934, 543187, 978260, 283045, 617902, 405826, 820913, 731095, \n",
    "592403, 109237, 874956, 605132, 214978, 674519, 391047, 825160, 509317, 768490, \n",
    "950283, 307491, 487610, 532198, 605132, 160984, 609873, 245016, 879043, 734126, \n",
    "351809, 670594, 920873, 605132, 596410, 135890, 804512, 683420, 290753, 931560, \n",
    "175430, 950672, 378490, 284105, 746098, 503624, 605132, 167432, 974810, 519463, \n",
    "407835, 740326, 281709, 630921, 953284, 605132, 429731, 183607, 369012, 541380, \n",
    "605132, 217605, 496803, 827309, 153607, 605132, 720459, 381904, 594031, 810235, \n",
    "673925, 492157, 835096, 260481, 956024, 540329, 806295, 320158, 751903, 980465, \n",
    "235780, 857943, 605132, 125094, 620493, 913250\n",
    "]\n",
    "\n",
    "print(\"panjang : \" , len(var_list))\n",
    "print(\"maksimal : \" , max(var_list))\n",
    "print(\"minimal : \" , min(var_list))\n",
    "print(\"605132 sebanyak : \" , var_list.count(605132))\n",
    "\n",
    "var_list.sort(reverse=True)\n",
    "\n",
    "print(\"sort.reverse : \", var_list)"
   ]
  }
 ],
 "metadata": {
  "kernelspec": {
   "display_name": "Python 3",
   "language": "python",
   "name": "python3"
  },
  "language_info": {
   "codemirror_mode": {
    "name": "ipython",
    "version": 3
   },
   "file_extension": ".py",
   "mimetype": "text/x-python",
   "name": "python",
   "nbconvert_exporter": "python",
   "pygments_lexer": "ipython3",
   "version": "3.11.4"
  },
  "orig_nbformat": 4
 },
 "nbformat": 4,
 "nbformat_minor": 2
}
